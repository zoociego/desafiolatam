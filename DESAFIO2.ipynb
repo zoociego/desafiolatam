{
  "nbformat": 4,
  "nbformat_minor": 0,
  "metadata": {
    "colab": {
      "provenance": [],
      "authorship_tag": "ABX9TyMaBCZ+N9v12GEFl7O62rAT",
      "include_colab_link": true
    },
    "kernelspec": {
      "name": "python3",
      "display_name": "Python 3"
    },
    "language_info": {
      "name": "python"
    }
  },
  "cells": [
    {
      "cell_type": "markdown",
      "metadata": {
        "id": "view-in-github",
        "colab_type": "text"
      },
      "source": [
        "<a href=\"https://colab.research.google.com/github/zoociego/desafiolatam/blob/main/DESAFIO2.ipynb\" target=\"_parent\"><img src=\"https://colab.research.google.com/assets/colab-badge.svg\" alt=\"Open In Colab\"/></a>"
      ]
    },
    {
      "cell_type": "code",
      "source": [
        "!pip install numpy\n",
        "!pip install pandas\n",
        "!pip install emoji"
      ],
      "metadata": {
        "colab": {
          "base_uri": "https://localhost:8080/"
        },
        "id": "gmGmvyWMvwJs",
        "outputId": "1b39320c-5961-4ede-ff62-dd2c5dffa571"
      },
      "execution_count": 51,
      "outputs": [
        {
          "output_type": "stream",
          "name": "stdout",
          "text": [
            "Requirement already satisfied: numpy in /usr/local/lib/python3.10/dist-packages (1.23.5)\n",
            "Requirement already satisfied: pandas in /usr/local/lib/python3.10/dist-packages (1.5.3)\n",
            "Requirement already satisfied: python-dateutil>=2.8.1 in /usr/local/lib/python3.10/dist-packages (from pandas) (2.8.2)\n",
            "Requirement already satisfied: pytz>=2020.1 in /usr/local/lib/python3.10/dist-packages (from pandas) (2023.3.post1)\n",
            "Requirement already satisfied: numpy>=1.21.0 in /usr/local/lib/python3.10/dist-packages (from pandas) (1.23.5)\n",
            "Requirement already satisfied: six>=1.5 in /usr/local/lib/python3.10/dist-packages (from python-dateutil>=2.8.1->pandas) (1.16.0)\n",
            "Collecting emoji\n",
            "  Downloading emoji-2.9.0-py2.py3-none-any.whl (397 kB)\n",
            "\u001b[2K     \u001b[90m━━━━━━━━━━━━━━━━━━━━━━━━━━━━━━━━━━━━━━━━\u001b[0m \u001b[32m397.5/397.5 kB\u001b[0m \u001b[31m5.7 MB/s\u001b[0m eta \u001b[36m0:00:00\u001b[0m\n",
            "\u001b[?25hInstalling collected packages: emoji\n",
            "Successfully installed emoji-2.9.0\n"
          ]
        }
      ]
    },
    {
      "cell_type": "code",
      "execution_count": 7,
      "metadata": {
        "id": "vbfr2CQWnSlm"
      },
      "outputs": [],
      "source": [
        "import numpy as np\n",
        "import pandas as pd\n",
        "import math"
      ]
    },
    {
      "cell_type": "markdown",
      "source": [
        "#<center><font color='green'>Ejercicio 1<p>Suma de números pares</font></center>"
      ],
      "metadata": {
        "id": "GXfxhi_q-U6m"
      }
    },
    {
      "cell_type": "code",
      "source": [
        "numberone = int(input('Give a number pls '))\n",
        "numbertwo = int(input('Give a number pls '))\n",
        "array = np.array(range(numberone, numbertwo))\n",
        "print(array)"
      ],
      "metadata": {
        "colab": {
          "base_uri": "https://localhost:8080/"
        },
        "id": "LnX0E7IO9pP-",
        "outputId": "252c9d18-212a-4187-d742-917cf2d7958c"
      },
      "execution_count": 6,
      "outputs": [
        {
          "output_type": "stream",
          "name": "stdout",
          "text": [
            "Give a number pls 1\n",
            "Give a number pls 10\n",
            "45\n"
          ]
        }
      ]
    },
    {
      "cell_type": "markdown",
      "source": [
        "#<center><font color='green'>Ejercicio 2<p>Calculadora de áreas</font></center>"
      ],
      "metadata": {
        "id": "6ghSIOQO1bH7"
      }
    },
    {
      "cell_type": "code",
      "source": [
        "shapes = ['Circle', 'Square', 'Triangle']\n",
        "options = ['1. Circle', '2. Square', '3. Triangle', '4. Exit']\n",
        "measurement = {}\n",
        "\n",
        "def menu():\n",
        "  print('-----------------------------------')\n",
        "  print('I`m shape`s area calculator so choose one')\n",
        "  for option in options:\n",
        "    print(option)\n",
        "  selected = input('select an option ')\n",
        "  if selected == '1':\n",
        "    measurement['radio'] = float(input('Choose the radio value '))\n",
        "    return 'Circle'\n",
        "  elif selected == '2':\n",
        "    measurement['side'] = float(input('Choose the side value '))\n",
        "    return 'Square'\n",
        "  elif selected == '3':\n",
        "    measurement['base'] = float(input('Choose the base value '))\n",
        "    measurement['height'] = float(input('Choose the height value '))\n",
        "    return 'Triangle'\n",
        "  elif selected == '4':\n",
        "    print('--------------------------------')\n",
        "    print('Goodbye')\n",
        "    return False\n",
        "  else:\n",
        "      print('--------------------------------')\n",
        "      print('This option isnt exist')\n",
        "\n",
        "def area(shape):\n",
        "  if shape == 'Circle':\n",
        "    circle = math.pi * measurement['radio']**2\n",
        "    return circle\n",
        "  elif shape == 'Triangle':\n",
        "    triangle = 1/2 * measurement['base'] * measurement['height']\n",
        "    return triangle\n",
        "  elif shape == 'Square':\n",
        "    square = measurement['side']**2\n",
        "    return square\n",
        "  else:\n",
        "      print('--------------------------------')\n",
        "      print('This shape doesnt exist')"
      ],
      "metadata": {
        "id": "4-Ox9jeE_ldU"
      },
      "execution_count": 41,
      "outputs": []
    },
    {
      "cell_type": "code",
      "source": [
        "  while True:\n",
        "    shape = menu()\n",
        "    if shape == False:\n",
        "        break\n",
        "    elif shape in shapes:\n",
        "      results = area(shape)\n",
        "      print('--------------------------------')\n",
        "      print(f'The area of {shape} is {results}')\n"
      ],
      "metadata": {
        "colab": {
          "base_uri": "https://localhost:8080/"
        },
        "id": "SswOd9_juUy0",
        "outputId": "aee650fa-b5a1-4ee8-e9b1-29f1504ea28d"
      },
      "execution_count": 45,
      "outputs": [
        {
          "output_type": "stream",
          "name": "stdout",
          "text": [
            "-----------------------------------\n",
            "I`m shape`s area calculator so choose one\n",
            "1. Circle\n",
            "2. Square\n",
            "3. Triangle\n",
            "4. Exit\n",
            "select an option 3\n",
            "Choose the base value 4\n",
            "Choose the height value 2\n",
            "--------------------------------\n",
            "The area of Triangle is 4.0\n",
            "-----------------------------------\n",
            "I`m shape`s area calculator so choose one\n",
            "1. Circle\n",
            "2. Square\n",
            "3. Triangle\n",
            "4. Exit\n",
            "select an option 2\n",
            "Choose the side value 4\n",
            "--------------------------------\n",
            "The area of Square is 16.0\n",
            "-----------------------------------\n",
            "I`m shape`s area calculator so choose one\n",
            "1. Circle\n",
            "2. Square\n",
            "3. Triangle\n",
            "4. Exit\n",
            "select an option 1\n",
            "Choose the radio value 12\n",
            "--------------------------------\n",
            "The area of Circle is 452.3893421169302\n",
            "-----------------------------------\n",
            "I`m shape`s area calculator so choose one\n",
            "1. Circle\n",
            "2. Square\n",
            "3. Triangle\n",
            "4. Exit\n",
            "select an option 4\n",
            "--------------------------------\n",
            "Goodbye\n"
          ]
        }
      ]
    },
    {
      "cell_type": "markdown",
      "source": [
        "#<center><font color='green'>Ejercicio 3<p>Adivina el número</font></center>\n"
      ],
      "metadata": {
        "id": "YfxPN9jo5LCN"
      }
    },
    {
      "cell_type": "code",
      "source": [
        "print('Hi im a randomizetor, guess the number and i let you win')\n",
        "random_number = np.random.randint(1,100)\n",
        "while True:\n",
        "  number = int(input('CHooSe A nUmb3r '))\n",
        "  if number == random_number:\n",
        "    print('Nice you Won')\n",
        "    break\n",
        "  else:\n",
        "    print('Uhhh try agAin...')"
      ],
      "metadata": {
        "colab": {
          "base_uri": "https://localhost:8080/"
        },
        "id": "qXahm1qY5KXd",
        "outputId": "e2ff19fa-23d3-4353-f73f-beb355d32e3b"
      },
      "execution_count": 49,
      "outputs": [
        {
          "output_type": "stream",
          "name": "stdout",
          "text": [
            "Hi im a randomizetor, guess the number and i let you win\n",
            "CHooSe A nUmb3r 1\n",
            "Uhhh try agAin...\n",
            "CHooSe A nUmb3r 2\n",
            "Uhhh try agAin...\n",
            "CHooSe A nUmb3r 3\n",
            "Uhhh try agAin...\n",
            "CHooSe A nUmb3r 4\n",
            "Uhhh try agAin...\n",
            "CHooSe A nUmb3r 5\n",
            "Uhhh try agAin...\n",
            "CHooSe A nUmb3r 6\n",
            "Uhhh try agAin...\n",
            "CHooSe A nUmb3r 7\n",
            "Uhhh try agAin...\n",
            "CHooSe A nUmb3r 8\n",
            "Uhhh try agAin...\n",
            "CHooSe A nUmb3r 9\n",
            "Uhhh try agAin...\n",
            "CHooSe A nUmb3r 10\n",
            "Uhhh try agAin...\n",
            "CHooSe A nUmb3r 1\n",
            "Uhhh try agAin...\n",
            "CHooSe A nUmb3r 11\n",
            "Uhhh try agAin...\n",
            "CHooSe A nUmb3r 12\n",
            "Uhhh try agAin...\n",
            "CHooSe A nUmb3r 13\n",
            "Uhhh try agAin...\n",
            "CHooSe A nUmb3r 14\n",
            "Uhhh try agAin...\n",
            "CHooSe A nUmb3r 15\n",
            "Uhhh try agAin...\n",
            "CHooSe A nUmb3r 16\n",
            "Uhhh try agAin...\n",
            "CHooSe A nUmb3r 17\n",
            "Uhhh try agAin...\n",
            "CHooSe A nUmb3r 18\n",
            "Uhhh try agAin...\n",
            "CHooSe A nUmb3r 19\n",
            "Uhhh try agAin...\n",
            "CHooSe A nUmb3r 20\n",
            "Uhhh try agAin...\n",
            "CHooSe A nUmb3r 21\n",
            "Uhhh try agAin...\n",
            "CHooSe A nUmb3r 22\n",
            "Uhhh try agAin...\n",
            "CHooSe A nUmb3r 23\n",
            "Uhhh try agAin...\n",
            "CHooSe A nUmb3r 24\n",
            "Uhhh try agAin...\n",
            "CHooSe A nUmb3r 25\n",
            "Uhhh try agAin...\n",
            "CHooSe A nUmb3r 26\n",
            "Uhhh try agAin...\n",
            "CHooSe A nUmb3r 27\n",
            "Uhhh try agAin...\n",
            "CHooSe A nUmb3r 28\n",
            "Uhhh try agAin...\n",
            "CHooSe A nUmb3r 29\n",
            "Uhhh try agAin...\n",
            "CHooSe A nUmb3r 30\n",
            "Uhhh try agAin...\n",
            "CHooSe A nUmb3r 31\n",
            "Uhhh try agAin...\n",
            "CHooSe A nUmb3r 32\n",
            "Uhhh try agAin...\n",
            "CHooSe A nUmb3r 33\n",
            "Uhhh try agAin...\n",
            "CHooSe A nUmb3r 34\n",
            "Uhhh try agAin...\n",
            "CHooSe A nUmb3r 35\n",
            "Uhhh try agAin...\n",
            "CHooSe A nUmb3r 36\n",
            "Uhhh try agAin...\n",
            "CHooSe A nUmb3r 37\n",
            "Uhhh try agAin...\n",
            "CHooSe A nUmb3r 38\n",
            "Uhhh try agAin...\n",
            "CHooSe A nUmb3r 39\n",
            "Uhhh try agAin...\n",
            "CHooSe A nUmb3r 40\n",
            "Uhhh try agAin...\n",
            "CHooSe A nUmb3r 41\n",
            "Uhhh try agAin...\n",
            "CHooSe A nUmb3r 42\n",
            "Uhhh try agAin...\n",
            "CHooSe A nUmb3r 43\n",
            "Uhhh try agAin...\n",
            "CHooSe A nUmb3r 44\n",
            "Uhhh try agAin...\n",
            "CHooSe A nUmb3r 45\n",
            "Uhhh try agAin...\n",
            "CHooSe A nUmb3r 46\n",
            "Uhhh try agAin...\n",
            "CHooSe A nUmb3r 47\n",
            "Uhhh try agAin...\n",
            "CHooSe A nUmb3r 48\n",
            "Uhhh try agAin...\n",
            "CHooSe A nUmb3r 49\n",
            "Uhhh try agAin...\n",
            "CHooSe A nUmb3r 50\n",
            "Uhhh try agAin...\n",
            "CHooSe A nUmb3r 51\n",
            "Uhhh try agAin...\n",
            "CHooSe A nUmb3r 52\n",
            "Uhhh try agAin...\n",
            "CHooSe A nUmb3r 53\n",
            "Uhhh try agAin...\n",
            "CHooSe A nUmb3r 5\n",
            "Uhhh try agAin...\n",
            "CHooSe A nUmb3r 54\n",
            "Uhhh try agAin...\n",
            "CHooSe A nUmb3r 55\n",
            "Uhhh try agAin...\n",
            "CHooSe A nUmb3r 56\n",
            "Uhhh try agAin...\n",
            "CHooSe A nUmb3r 57\n",
            "Uhhh try agAin...\n",
            "CHooSe A nUmb3r 58\n",
            "Uhhh try agAin...\n",
            "CHooSe A nUmb3r 59\n",
            "Uhhh try agAin...\n",
            "CHooSe A nUmb3r 60\n",
            "Uhhh try agAin...\n",
            "CHooSe A nUmb3r 61\n",
            "Uhhh try agAin...\n",
            "CHooSe A nUmb3r 62\n",
            "Uhhh try agAin...\n",
            "CHooSe A nUmb3r 63\n",
            "Uhhh try agAin...\n",
            "CHooSe A nUmb3r 64\n",
            "Uhhh try agAin...\n",
            "CHooSe A nUmb3r 65\n",
            "Uhhh try agAin...\n",
            "CHooSe A nUmb3r 66\n",
            "Uhhh try agAin...\n",
            "CHooSe A nUmb3r 67\n",
            "Uhhh try agAin...\n",
            "CHooSe A nUmb3r 68\n",
            "Uhhh try agAin...\n",
            "CHooSe A nUmb3r 69\n",
            "Uhhh try agAin...\n",
            "CHooSe A nUmb3r 70\n",
            "Uhhh try agAin...\n",
            "CHooSe A nUmb3r 71\n",
            "Uhhh try agAin...\n",
            "CHooSe A nUmb3r 72\n",
            "Uhhh try agAin...\n",
            "CHooSe A nUmb3r 73\n",
            "Nice you Won\n"
          ]
        }
      ]
    },
    {
      "cell_type": "markdown",
      "source": [
        "#<center><font color='green'>Ejercicio 4<p> ¡Maratón de caracoles!</font></center>\n"
      ],
      "metadata": {
        "id": "fOyRI36y_pFo"
      }
    },
    {
      "cell_type": "code",
      "source": [
        "import emoji\n",
        "step = '_'\n",
        "vel = int(input('Choose the speed '))\n",
        "speed = step * vel\n",
        "snail = emoji.emojize(':snail:')\n",
        "\n",
        "while True:\n",
        "  user = input('Press enter to move snail else press q for exit ')\n",
        "  if user == '':\n",
        "    speed += step * vel\n",
        "    print(f'{speed}{snail}')\n",
        "  elif user == 'q':\n",
        "    break\n",
        "  else:\n",
        "    print('This is not valid input')"
      ],
      "metadata": {
        "colab": {
          "base_uri": "https://localhost:8080/",
          "height": 720
        },
        "id": "opDsMhl7AGCh",
        "outputId": "c71734d8-44d5-4d84-fa5a-03e7a5999f9a"
      },
      "execution_count": 67,
      "outputs": [
        {
          "output_type": "stream",
          "name": "stdout",
          "text": [
            "Choose the speed 10\n",
            "Press enter to move snail else press q for exit \n",
            "____________________🐌\n",
            "Press enter to move snail else press q for exit \n",
            "______________________________🐌\n",
            "Press enter to move snail else press q for exit \n",
            "________________________________________🐌\n",
            "Press enter to move snail else press q for exit \n",
            "__________________________________________________🐌\n",
            "Press enter to move snail else press q for exit \n",
            "____________________________________________________________🐌\n",
            "Press enter to move snail else press q for exit \n",
            "______________________________________________________________________🐌\n",
            "Press enter to move snail else press q for exit \n",
            "________________________________________________________________________________🐌\n",
            "Press enter to move snail else press q for exit \n",
            "__________________________________________________________________________________________🐌\n",
            "Press enter to move snail else press q for exit \n",
            "____________________________________________________________________________________________________🐌\n"
          ]
        },
        {
          "output_type": "error",
          "ename": "KeyboardInterrupt",
          "evalue": "ignored",
          "traceback": [
            "\u001b[0;31m---------------------------------------------------------------------------\u001b[0m",
            "\u001b[0;31mKeyboardInterrupt\u001b[0m                         Traceback (most recent call last)",
            "\u001b[0;32m<ipython-input-67-8280605fa5e1>\u001b[0m in \u001b[0;36m<cell line: 7>\u001b[0;34m()\u001b[0m\n\u001b[1;32m      6\u001b[0m \u001b[0;34m\u001b[0m\u001b[0m\n\u001b[1;32m      7\u001b[0m \u001b[0;32mwhile\u001b[0m \u001b[0;32mTrue\u001b[0m\u001b[0;34m:\u001b[0m\u001b[0;34m\u001b[0m\u001b[0;34m\u001b[0m\u001b[0m\n\u001b[0;32m----> 8\u001b[0;31m   \u001b[0muser\u001b[0m \u001b[0;34m=\u001b[0m \u001b[0minput\u001b[0m\u001b[0;34m(\u001b[0m\u001b[0;34m'Press enter to move snail else press q for exit '\u001b[0m\u001b[0;34m)\u001b[0m\u001b[0;34m\u001b[0m\u001b[0;34m\u001b[0m\u001b[0m\n\u001b[0m\u001b[1;32m      9\u001b[0m   \u001b[0;32mif\u001b[0m \u001b[0muser\u001b[0m \u001b[0;34m==\u001b[0m \u001b[0;34m''\u001b[0m\u001b[0;34m:\u001b[0m\u001b[0;34m\u001b[0m\u001b[0;34m\u001b[0m\u001b[0m\n\u001b[1;32m     10\u001b[0m     \u001b[0mspeed\u001b[0m \u001b[0;34m+=\u001b[0m \u001b[0mstep\u001b[0m \u001b[0;34m*\u001b[0m \u001b[0mvel\u001b[0m\u001b[0;34m\u001b[0m\u001b[0;34m\u001b[0m\u001b[0m\n",
            "\u001b[0;32m/usr/local/lib/python3.10/dist-packages/ipykernel/kernelbase.py\u001b[0m in \u001b[0;36mraw_input\u001b[0;34m(self, prompt)\u001b[0m\n\u001b[1;32m    849\u001b[0m                 \u001b[0;34m\"raw_input was called, but this frontend does not support input requests.\"\u001b[0m\u001b[0;34m\u001b[0m\u001b[0;34m\u001b[0m\u001b[0m\n\u001b[1;32m    850\u001b[0m             )\n\u001b[0;32m--> 851\u001b[0;31m         return self._input_request(str(prompt),\n\u001b[0m\u001b[1;32m    852\u001b[0m             \u001b[0mself\u001b[0m\u001b[0;34m.\u001b[0m\u001b[0m_parent_ident\u001b[0m\u001b[0;34m,\u001b[0m\u001b[0;34m\u001b[0m\u001b[0;34m\u001b[0m\u001b[0m\n\u001b[1;32m    853\u001b[0m             \u001b[0mself\u001b[0m\u001b[0;34m.\u001b[0m\u001b[0m_parent_header\u001b[0m\u001b[0;34m,\u001b[0m\u001b[0;34m\u001b[0m\u001b[0;34m\u001b[0m\u001b[0m\n",
            "\u001b[0;32m/usr/local/lib/python3.10/dist-packages/ipykernel/kernelbase.py\u001b[0m in \u001b[0;36m_input_request\u001b[0;34m(self, prompt, ident, parent, password)\u001b[0m\n\u001b[1;32m    893\u001b[0m             \u001b[0;32mexcept\u001b[0m \u001b[0mKeyboardInterrupt\u001b[0m\u001b[0;34m:\u001b[0m\u001b[0;34m\u001b[0m\u001b[0;34m\u001b[0m\u001b[0m\n\u001b[1;32m    894\u001b[0m                 \u001b[0;31m# re-raise KeyboardInterrupt, to truncate traceback\u001b[0m\u001b[0;34m\u001b[0m\u001b[0;34m\u001b[0m\u001b[0m\n\u001b[0;32m--> 895\u001b[0;31m                 \u001b[0;32mraise\u001b[0m \u001b[0mKeyboardInterrupt\u001b[0m\u001b[0;34m(\u001b[0m\u001b[0;34m\"Interrupted by user\"\u001b[0m\u001b[0;34m)\u001b[0m \u001b[0;32mfrom\u001b[0m \u001b[0;32mNone\u001b[0m\u001b[0;34m\u001b[0m\u001b[0;34m\u001b[0m\u001b[0m\n\u001b[0m\u001b[1;32m    896\u001b[0m             \u001b[0;32mexcept\u001b[0m \u001b[0mException\u001b[0m \u001b[0;32mas\u001b[0m \u001b[0me\u001b[0m\u001b[0;34m:\u001b[0m\u001b[0;34m\u001b[0m\u001b[0;34m\u001b[0m\u001b[0m\n\u001b[1;32m    897\u001b[0m                 \u001b[0mself\u001b[0m\u001b[0;34m.\u001b[0m\u001b[0mlog\u001b[0m\u001b[0;34m.\u001b[0m\u001b[0mwarning\u001b[0m\u001b[0;34m(\u001b[0m\u001b[0;34m\"Invalid Message:\"\u001b[0m\u001b[0;34m,\u001b[0m \u001b[0mexc_info\u001b[0m\u001b[0;34m=\u001b[0m\u001b[0;32mTrue\u001b[0m\u001b[0;34m)\u001b[0m\u001b[0;34m\u001b[0m\u001b[0;34m\u001b[0m\u001b[0m\n",
            "\u001b[0;31mKeyboardInterrupt\u001b[0m: Interrupted by user"
          ]
        }
      ]
    }
  ]
}