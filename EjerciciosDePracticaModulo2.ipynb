{
  "nbformat": 4,
  "nbformat_minor": 0,
  "metadata": {
    "colab": {
      "provenance": [],
      "authorship_tag": "ABX9TyMQZKETLTNwcxqr1W+M0LPg",
      "include_colab_link": true
    },
    "kernelspec": {
      "name": "python3",
      "display_name": "Python 3"
    },
    "language_info": {
      "name": "python"
    }
  },
  "cells": [
    {
      "cell_type": "markdown",
      "metadata": {
        "id": "view-in-github",
        "colab_type": "text"
      },
      "source": [
        "<a href=\"https://colab.research.google.com/github/zoociego/desafiolatam/blob/main/EjerciciosDePracticaModulo2.ipynb\" target=\"_parent\"><img src=\"https://colab.research.google.com/assets/colab-badge.svg\" alt=\"Open In Colab\"/></a>"
      ]
    },
    {
      "cell_type": "markdown",
      "source": [
        " # <center><font color='green'>Ejercicio 1<p>La agencia espacial</font></center>\n"
      ],
      "metadata": {
        "id": "jpE6iq7L6OHW"
      }
    },
    {
      "cell_type": "code",
      "source": [
        "!pip install numpy\n",
        "!pip install pandas"
      ],
      "metadata": {
        "colab": {
          "base_uri": "https://localhost:8080/"
        },
        "id": "w5OQYXZN7GAo",
        "outputId": "1de1a25d-5fad-47c8-8325-1553ad8cf07f"
      },
      "execution_count": null,
      "outputs": [
        {
          "output_type": "stream",
          "name": "stdout",
          "text": [
            "Requirement already satisfied: numpy in /usr/local/lib/python3.10/dist-packages (1.23.5)\n",
            "Requirement already satisfied: pandas in /usr/local/lib/python3.10/dist-packages (1.5.3)\n",
            "Requirement already satisfied: python-dateutil>=2.8.1 in /usr/local/lib/python3.10/dist-packages (from pandas) (2.8.2)\n",
            "Requirement already satisfied: pytz>=2020.1 in /usr/local/lib/python3.10/dist-packages (from pandas) (2023.3.post1)\n",
            "Requirement already satisfied: numpy>=1.21.0 in /usr/local/lib/python3.10/dist-packages (from pandas) (1.23.5)\n",
            "Requirement already satisfied: six>=1.5 in /usr/local/lib/python3.10/dist-packages (from python-dateutil>=2.8.1->pandas) (1.16.0)\n"
          ]
        }
      ]
    },
    {
      "cell_type": "code",
      "execution_count": 34,
      "metadata": {
        "id": "5bP_6k-4sQj-"
      },
      "outputs": [],
      "source": [
        "import numpy as np\n",
        "from pandas import read_csv\n",
        "names = np.loadtxt(\"/content/nombre_astronautas.csv\", delimiter=',', dtype = str)\n",
        "height = np.loadtxt(\"/content/altura_astronautas.csv\", delimiter=',', dtype = float)\n",
        "weight = np.loadtxt(\"/content/peso_astronautas.csv\", delimiter=',', dtype = int)\n",
        "age = np.loadtxt(\"/content/edad_astronautas.csv\", delimiter=',', dtype = int)\n",
        "experience_years = np.loadtxt(\"/content/anos_experiencia_astronautas.csv\", delimiter=',', dtype = int)\n",
        "eval_adaptative = np.loadtxt(\"/content/evaluacion_adaptativa_astronautas.csv\", delimiter=',', dtype = int)\n",
        "eval_physical = np.loadtxt(\"/content/evaluacion_fisica_astronautas.csv\", delimiter=',', dtype = int)\n",
        "eval_medic = np.loadtxt(\"/content/evaluacion_medica_astronautas.csv\", delimiter=',', dtype = int)\n",
        "eval_psychologic = np.loadtxt(\"/content/evaluacion_psicologica_astronautas.csv\", delimiter=',', dtype = int)"
      ]
    },
    {
      "cell_type": "code",
      "source": [
        "max_height = names[height.argmax()]\n",
        "above_avg = np.count_nonzero([experience_years > experience_years.mean()])\n",
        "x = names[np.logical_and(age < 30, eval_medic >= 85)]"
      ],
      "metadata": {
        "colab": {
          "base_uri": "https://localhost:8080/"
        },
        "id": "bVMDTk74ufHO",
        "outputId": "3be2de2e-c1df-47b3-e51a-d4f83845b710"
      },
      "execution_count": 36,
      "outputs": [
        {
          "output_type": "stream",
          "name": "stdout",
          "text": [
            "['Fátima Tafalla' 'Sofía Puig' 'Amaya de la Cruz' 'María Juderías'\n",
            " 'María José Franco' 'Emanuel Gálvez' 'Alberto Graciani' 'Pablo Cotilla'\n",
            " 'Pablo Capmany' 'Nicolás Cambeiro' 'Daniel Sánchez' 'Samuel Gálvez'\n",
            " 'Christopher Berganza' 'Alexia Gaos']\n"
          ]
        }
      ]
    },
    {
      "cell_type": "code",
      "source": [],
      "metadata": {
        "id": "lAtEYXrmKRnz"
      },
      "execution_count": 32,
      "outputs": []
    }
  ]
}